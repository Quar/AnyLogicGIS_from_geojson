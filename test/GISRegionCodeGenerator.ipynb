{
 "cells": [
  {
   "cell_type": "code",
   "execution_count": null,
   "metadata": {},
   "outputs": [],
   "source": [
    "import json\n",
    "from io import StringIO\n",
    "\n",
    "def read_geo_obj(filepath):\n",
    "    with open(filepath, 'r') as f:\n",
    "        return json.load(f)\n",
    "    \n",
    "def print_key_trees(dict_obj):\n",
    "    def print_indent(obj, indent=0):                \n",
    "        if isinstance(obj, dict):            \n",
    "            for k, v in obj.items():\n",
    "                print('\\t'*indent + k)\n",
    "                print_indent(v, indent+1)\n",
    "        elif isinstance(obj, list):\n",
    "            print('\\t'*indent + '[')\n",
    "            print_indent(obj[0], indent+1)\n",
    "            print('\\t'*indent + ']')\n",
    "    print_indent(dict_obj, 0)"
   ]
  },
  {
   "cell_type": "code",
   "execution_count": null,
   "metadata": {},
   "outputs": [],
   "source": [
    "geo_obj = read_geo_obj('./input.geojson')"
   ]
  },
  {
   "cell_type": "code",
   "execution_count": null,
   "metadata": {},
   "outputs": [],
   "source": [
    "print_key_trees(geo_obj)"
   ]
  },
  {
   "cell_type": "code",
   "execution_count": 126,
   "metadata": {},
   "outputs": [],
   "source": [
    "def zipcode_latlon(features):\n",
    "    buf = StringIO()\n",
    "    buf.write(\"\")\n",
    "    for f in features:\n",
    "        buf.write(f\"double[] region_{f['properties']['ZIPCODE']}() \"+\"{\\n\" + \"return new double[] \")\n",
    "        lonlatList = f['geometry']['coordinates'][0][0]\n",
    "        buf.write('{ ')\n",
    "        isHead = True\n",
    "        for lon,lat in lonlatList:\n",
    "            if not isHead:\n",
    "                buf.write(', ')\n",
    "            buf.write(f\"{lat}, {lon}\")\n",
    "            isHead = False\n",
    "        buf.write('};\\n}\\n\\n')\n",
    "    return buf.getvalue()"
   ]
  },
  {
   "cell_type": "code",
   "execution_count": null,
   "metadata": {},
   "outputs": [],
   "source": [
    "print(zipcode_latlon(geo_obj['features']))"
   ]
  },
  {
   "cell_type": "code",
   "execution_count": 127,
   "metadata": {},
   "outputs": [],
   "source": [
    "def gisRegionMap(features):\n",
    "    buf = StringIO()\n",
    "    buf.write('public LinkedHashMap<String, GISRegion> __addGISRegionInLA(ShapeGISMap map) {')    \n",
    "    buf.write(\"LinkedHashMap<String, GISRegion> regionsMap = new LinkedHashMap<String, GISRegion>();\\n\")\n",
    "    feat_sorted = sorted(features, key=lambda f: f['properties']['ZIPCODE'])\n",
    "    for f in feat_sorted:\n",
    "        zipcode = f['properties']['ZIPCODE']\n",
    "        buf.write(f'regionsMap.put(\"{zipcode}\", new GISRegion(map, region_{zipcode}()));\\n')\n",
    "    buf.write('return regionsMap;\\n')\n",
    "    buf.write('}\\n\\n')\n",
    "    return buf.getvalue()"
   ]
  },
  {
   "cell_type": "code",
   "execution_count": 128,
   "metadata": {},
   "outputs": [],
   "source": [
    "def gisRegionMapWithFilter(features):\n",
    "    buf = StringIO()\n",
    "    buf.write('public LinkedHashMap<String, GISRegion> __addGISRegionInLA(ShapeGISMap map, List<String> onlyInclude) {')\n",
    "    buf.write(\"LinkedHashMap<String, GISRegion> regionsMap = new LinkedHashMap<String, GISRegion>();\\n\")\n",
    "    feat_sorted = sorted(features, key=lambda f: f['properties']['ZIPCODE'])\n",
    "    for f in feat_sorted:\n",
    "        zipcode = f['properties']['ZIPCODE']\n",
    "        buf.write(f'if (onlyInclude.contains(\"{zipcode}\")) regionsMap.put(\"{zipcode}\", new GISRegion(map, region_{zipcode}()));\\n')\n",
    "    buf.write('return regionsMap;\\n')\n",
    "    buf.write('}\\n\\n')\n",
    "    return buf.getvalue()"
   ]
  },
  {
   "cell_type": "code",
   "execution_count": null,
   "metadata": {
    "scrolled": false
   },
   "outputs": [],
   "source": [
    "print(gisRegionMap(geo_obj['features']))"
   ]
  },
  {
   "cell_type": "code",
   "execution_count": null,
   "metadata": {},
   "outputs": [],
   "source": [
    "print(gisRegionMapWithFilter(geo_obj['features']))"
   ]
  },
  {
   "cell_type": "code",
   "execution_count": null,
   "metadata": {},
   "outputs": [],
   "source": [
    "with open('init_RegionsMap.java', 'w') as f:\n",
    "    f.write(zipcode_latlon(geo_obj['features']))\n",
    "    f.write(gisRegionMap(geo_obj['features']))"
   ]
  },
  {
   "cell_type": "code",
   "execution_count": 129,
   "metadata": {},
   "outputs": [],
   "source": [
    "def regionsCentMap(features):\n",
    "    buf = StringIO()\n",
    "    buf.write('public LinkedHashMap<String, Point> __addGISRegionCentersInLA(ShapeGISMap map) {')\n",
    "    buf.write(\"LinkedHashMap<String, Point> regionsCentMap = new LinkedHashMap<String, Point>();\\n\")\n",
    "    feat_sorted = sorted(features, key=lambda f: f['properties']['ZIPCODE'])\n",
    "    for f in feat_sorted:\n",
    "        zipcode = f['properties']['ZIPCODE']\n",
    "\n",
    "        sumLat, sumLon = (0, 0)\n",
    "        lonlatList = f['geometry']['coordinates'][0][0]\n",
    "        nPoints = len(lonlatList)\n",
    "        for lon,lat in lonlatList:\n",
    "            sumLat += lat\n",
    "            sumLon += lon\n",
    "            \n",
    "        centLat = sumLat / nPoints\n",
    "        centLon = sumLon / nPoints\n",
    "        \n",
    "        buf.write(f'regionsCentMap.put(\"{zipcode}\", (new Point()).setLatLon({centLat}, {centLon}));\\n')\n",
    "    buf.write('return regionsCentMap;\\n')\n",
    "    buf.write('}\\n\\n')\n",
    "    return buf.getvalue()"
   ]
  },
  {
   "cell_type": "code",
   "execution_count": null,
   "metadata": {},
   "outputs": [],
   "source": [
    "print(regionsCentMap(geo_obj['features']))"
   ]
  },
  {
   "cell_type": "code",
   "execution_count": 130,
   "metadata": {},
   "outputs": [],
   "source": [
    "def regionsCentMapWithFilter(features):\n",
    "    buf = StringIO()\n",
    "    buf.write('public LinkedHashMap<String, Point> __addGISRegionCentersInLA(ShapeGISMap map, List<String> onlyInclude) {')    \n",
    "    buf.write(\"LinkedHashMap<String, Point> regionsCentMap = new LinkedHashMap<String, Point>();\\n\")\n",
    "    feat_sorted = sorted(features, key=lambda f: f['properties']['ZIPCODE'])\n",
    "    for f in feat_sorted:\n",
    "        zipcode = f['properties']['ZIPCODE']\n",
    "\n",
    "        sumLat, sumLon = (0, 0)\n",
    "        lonlatList = f['geometry']['coordinates'][0][0]\n",
    "        nPoints = len(lonlatList)\n",
    "        for lon,lat in lonlatList:\n",
    "            sumLat += lat\n",
    "            sumLon += lon\n",
    "            \n",
    "        centLat = sumLat / nPoints\n",
    "        centLon = sumLon / nPoints\n",
    "        \n",
    "        buf.write(f'if (onlyInclude.contains(\"{zipcode}\")) regionsCentMap.put(\"{zipcode}\", (new Point()).setLatLon({centLat}, {centLon}));\\n')\n",
    "    buf.write('return regionsCentMap;\\n')\n",
    "    buf.write('}\\n\\n')    \n",
    "    return buf.getvalue()"
   ]
  },
  {
   "cell_type": "code",
   "execution_count": null,
   "metadata": {},
   "outputs": [],
   "source": [
    "print(regionsCentMapWithFilter(geo_obj['features']))"
   ]
  },
  {
   "cell_type": "code",
   "execution_count": null,
   "metadata": {},
   "outputs": [],
   "source": [
    "def getCentralOfAllRegions(features):\n",
    "    sumLat, sumLon = (0, 0)\n",
    "    nPoints = 0\n",
    "    for f in features:\n",
    "        zipcode = f['properties']['ZIPCODE']\n",
    "        lonlatList = f['geometry']['coordinates'][0][0]\n",
    "        nPoints += len(lonlatList)\n",
    "        for lon,lat in lonlatList:\n",
    "            sumLat += lat\n",
    "            sumLon += lon\n",
    "            \n",
    "    centLat = sumLat / nPoints\n",
    "    centLon = sumLon / nPoints\n",
    "    return centLat, centLon"
   ]
  },
  {
   "cell_type": "code",
   "execution_count": null,
   "metadata": {},
   "outputs": [],
   "source": [
    "getCentralOfAllRegions(geo_obj['features'])"
   ]
  },
  {
   "cell_type": "code",
   "execution_count": 131,
   "metadata": {},
   "outputs": [],
   "source": [
    "def addClassWrapper(*args):\n",
    "    buf = StringIO()\n",
    "    buf.write(\"\"\"\n",
    "/***************************\n",
    "This file is auto generated by a bot.\n",
    "***************************/\n",
    "import java.util.Map;\n",
    "import java.util.stream.Collectors;\n",
    "\n",
    "public class InitGISRegions {\n",
    "\"\"\")\n",
    "    for arg in args:\n",
    "        buf.write(arg)\n",
    "        buf.write('\\n')\n",
    "    buf.write('}\\n')\n",
    "    return buf.getvalue()"
   ]
  },
  {
   "cell_type": "code",
   "execution_count": 133,
   "metadata": {},
   "outputs": [
    {
     "data": {
      "text/plain": [
       "257901"
      ]
     },
     "execution_count": 133,
     "metadata": {},
     "output_type": "execute_result"
    }
   ],
   "source": [
    "feat = geo_obj['features']\n",
    "\n",
    "with open('InitGISRegions.java', 'w') as f:\n",
    "    f.write(\n",
    "        addClassWrapper(\n",
    "            zipcode_latlon(feat),\n",
    "            gisRegionMap(feat),\n",
    "            gisRegionMapWithFilter(feat),\n",
    "            regionsCentMap(feat),\n",
    "            regionsCentMapWithFilter(feat)\n",
    "        )\n",
    "    )"
   ]
  },
  {
   "cell_type": "code",
   "execution_count": null,
   "metadata": {},
   "outputs": [],
   "source": []
  }
 ],
 "metadata": {
  "kernelspec": {
   "display_name": "Python 3",
   "language": "python",
   "name": "python3"
  },
  "language_info": {
   "codemirror_mode": {
    "name": "ipython",
    "version": 3
   },
   "file_extension": ".py",
   "mimetype": "text/x-python",
   "name": "python",
   "nbconvert_exporter": "python",
   "pygments_lexer": "ipython3",
   "version": "3.6.4"
  }
 },
 "nbformat": 4,
 "nbformat_minor": 2
}
